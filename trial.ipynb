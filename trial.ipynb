{
 "cells": [
  {
   "cell_type": "code",
   "execution_count": 6,
   "metadata": {},
   "outputs": [],
   "source": [
    "from transformers import AutoTokenizer, AutoModelForSeq2SeqLM\n",
    "\n",
    # You can use the large model or the base model
    "tokenizer = AutoTokenizer.from_pretrained(\"garrachonr/Gogelphile-movies-large\")\n",
    "\n",
    "model = AutoModelForSeq2SeqLM.from_pretrained(\"garrachonr/Gogelphile-movies-large\")"
   ]
  },
  {
   "cell_type": "code",
   "execution_count": 7,
   "metadata": {},
   "outputs": [],
   "source": [
    "def generate(knowledge, dialog):\n",
    "    if knowledge != '':\n",
    "        knowledge = '<|Knowledge|> ' + knowledge\n",
    "        # knowledge = '[KNOWLEDGE] ' + knowledge\n",
    "    dialog = ' EOS '.join(dialog)\n",
    "    query = f\" [CONTEXT] {dialog} {knowledge}\"\n",
    "    input_ids = tokenizer(f\"{query}\", return_tensors=\"pt\").input_ids\n",
    "    outputs = model.generate(input_ids, max_length=128, min_length=8, top_p=0.9, do_sample=True)\n",
    "    output = tokenizer.decode(outputs[0], skip_special_tokens=True)\n",
    "    return output\n"
   ]
  },
  {
   "cell_type": "code",
   "execution_count": 8,
   "metadata": {},
   "outputs": [
    {
     "name": "stdout",
     "output_type": "stream",
     "text": [
      "Do you know the film of super mario bros?\n",
      "Yes, it's an adventure, comedy, and family film released in 1993.\n",
      "how long is it\n",
      "The film has a duration of 1 hour and 44 minutes.\n",
      "who directed the film?\n",
      "The film was directed by Annabel Jankel and Rocky Morton.\n",
      "tell me a bit about the plot\n",
      "The film is about two brothers named Mario and Luigi who are working underground to fix a water main. They are transported down a mysterious pipe and wander into a magical new world. When the brothers are separated, Mario embarks on an epic quest to find Luigi.\n",
      "which is the rating of the film\n",
      "The film has a rating of 4.1 out of 10.\n"
     ]
    }
   ],
   "source": [
    "# Instruction for a chitchat task\n",
    "instruction = f'Instruction: given a dialog context, you need to response based on the knowledge.'\n",
    "# Knowledge of the model\n",
    "knowledge = \"Title: Super Mario Bros.. Overview: While working underground to fix a water main, Brooklyn plumbers—and brothers—Mario and Luigi are transported down a mysterious pipe and wander into a magical new world. But when the brothers are separated, Mario embarks on an epic quest to find Luigi.. Rating: 4.1. Genre: Adventure, Comedy, Family. Date Published: 1993-05-28. Duration: 1 hours 44 minutes. Actors: Bob Hoskins, John Leguizamo, Dennis Hopper. Director: Annabel Jankel, Rocky Morton.\"\n",
    "dialog = []\n",
    "for step in range(5):\n",
    "  entrada = input(\">> User:\")\n",
    "  dialog.append(entrada)\n",
    "  response = generate(knowledge, dialog)\n",
    "  dialog.append(response)\n",
    "  print(entrada)\n",
    "  print(response)"
   ]
  }
 ],
 "metadata": {
  "kernelspec": {
   "display_name": "develop",
   "language": "python",
   "name": "python3"
  },
  "language_info": {
   "codemirror_mode": {
    "name": "ipython",
    "version": 3
   },
   "file_extension": ".py",
   "mimetype": "text/x-python",
   "name": "python",
   "nbconvert_exporter": "python",
   "pygments_lexer": "ipython3",
   "version": "3.9.15"
  },
  "orig_nbformat": 4
 },
 "nbformat": 4,
 "nbformat_minor": 2
}
