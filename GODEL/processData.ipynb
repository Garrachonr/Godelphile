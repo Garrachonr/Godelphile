{
 "cells": [
  {
   "cell_type": "code",
   "execution_count": 1,
   "metadata": {},
   "outputs": [
    {
     "name": "stderr",
     "output_type": "stream",
     "text": [
      "/home/agarrachon/agarrachon/minconda/envs/godel/lib/python3.8/site-packages/tqdm/auto.py:22: TqdmWarning: IProgress not found. Please update jupyter and ipywidgets. See https://ipywidgets.readthedocs.io/en/stable/user_install.html\n",
      "  from .autonotebook import tqdm as notebook_tqdm\n"
     ]
    }
   ],
   "source": [
    "import datasets\n",
    "import jsonlines"
   ]
  },
  {
   "cell_type": "code",
   "execution_count": null,
   "metadata": {},
   "outputs": [],
   "source": [
    "train_path = '../data/reddit.jsonl'\n",
    "validation_path = '../data/reddit.jsonl'\n",
    "test_path = '../data/reddit.jsonl'\n",
    "\n",
    "datasets.SplitGenerator(name=datasets.Split.TRAIN, gen_kwargs={\n",
    "                                    \"filepath\": train_path})\n",
    "datasets.SplitGenerator(name=datasets.Split.VALIDATION, gen_kwargs={\n",
    "                                    \"filepath\": validation_path})\n",
    "datasets.SplitGenerator(name=datasets.Split.TEST, gen_kwargs={\n",
    "                                    \"filepath\": test_path})"
   ]
  }
 ],
 "metadata": {
  "kernelspec": {
   "display_name": "develop",
   "language": "python",
   "name": "python3"
  },
  "language_info": {
   "codemirror_mode": {
    "name": "ipython",
    "version": 3
   },
   "file_extension": ".py",
   "mimetype": "text/x-python",
   "name": "python",
   "nbconvert_exporter": "python",
   "pygments_lexer": "ipython3",
   "version": "3.8.16"
  },
  "orig_nbformat": 4
 },
 "nbformat": 4,
 "nbformat_minor": 2
}
