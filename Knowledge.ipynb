{
  "nbformat": 4,
  "nbformat_minor": 0,
  "metadata": {
    "colab": {
      "provenance": []
    },
    "kernelspec": {
      "name": "python3",
      "display_name": "Python 3"
    },
    "language_info": {
      "name": "python"
    }
  },
  "cells": [
    {
      "cell_type": "code",
      "execution_count": null,
      "metadata": {
        "colab": {
          "base_uri": "https://localhost:8080/"
        },
        "id": "jipPODIMkRzf",
        "outputId": "9d4b51df-d37d-49c6-9caa-bb82ad5ec4cd"
      },
      "outputs": [
        {
          "output_type": "stream",
          "name": "stdout",
          "text": [
            "Looking in indexes: https://pypi.org/simple, https://us-python.pkg.dev/colab-wheels/public/simple/\n",
            "Collecting PyMovieDb\n",
            "  Downloading PyMovieDb-0.0.7-py3-none-any.whl (13 kB)\n",
            "Collecting requests-html\n",
            "  Downloading requests_html-0.10.0-py3-none-any.whl (13 kB)\n",
            "Collecting w3lib\n",
            "  Downloading w3lib-2.1.1-py3-none-any.whl (21 kB)\n",
            "Requirement already satisfied: requests in /usr/local/lib/python3.9/dist-packages (from requests-html->PyMovieDb) (2.27.1)\n",
            "Collecting pyppeteer>=0.0.14\n",
            "  Downloading pyppeteer-1.0.2-py3-none-any.whl (83 kB)\n",
            "\u001b[2K     \u001b[90m━━━━━━━━━━━━━━━━━━━━━━━━━━━━━━━━━━━━━━━━\u001b[0m \u001b[32m83.4/83.4 kB\u001b[0m \u001b[31m4.5 MB/s\u001b[0m eta \u001b[36m0:00:00\u001b[0m\n",
            "\u001b[?25hCollecting pyquery\n",
            "  Downloading pyquery-2.0.0-py3-none-any.whl (22 kB)\n",
            "Collecting bs4\n",
            "  Downloading bs4-0.0.1.tar.gz (1.1 kB)\n",
            "  Preparing metadata (setup.py) ... \u001b[?25l\u001b[?25hdone\n",
            "Collecting fake-useragent\n",
            "  Downloading fake_useragent-1.1.3-py3-none-any.whl (50 kB)\n",
            "\u001b[2K     \u001b[90m━━━━━━━━━━━━━━━━━━━━━━━━━━━━━━━━━━━━━━━━\u001b[0m \u001b[32m50.5/50.5 kB\u001b[0m \u001b[31m3.5 MB/s\u001b[0m eta \u001b[36m0:00:00\u001b[0m\n",
            "\u001b[?25hCollecting parse\n",
            "  Downloading parse-1.19.0.tar.gz (30 kB)\n",
            "  Preparing metadata (setup.py) ... \u001b[?25l\u001b[?25hdone\n",
            "Requirement already satisfied: appdirs<2.0.0,>=1.4.3 in /usr/local/lib/python3.9/dist-packages (from pyppeteer>=0.0.14->requests-html->PyMovieDb) (1.4.4)\n",
            "Requirement already satisfied: urllib3<2.0.0,>=1.25.8 in /usr/local/lib/python3.9/dist-packages (from pyppeteer>=0.0.14->requests-html->PyMovieDb) (1.26.15)\n",
            "Requirement already satisfied: importlib-metadata>=1.4 in /usr/local/lib/python3.9/dist-packages (from pyppeteer>=0.0.14->requests-html->PyMovieDb) (6.1.0)\n",
            "Collecting websockets<11.0,>=10.0\n",
            "  Downloading websockets-10.4-cp39-cp39-manylinux_2_5_x86_64.manylinux1_x86_64.manylinux_2_17_x86_64.manylinux2014_x86_64.whl (106 kB)\n",
            "\u001b[2K     \u001b[90m━━━━━━━━━━━━━━━━━━━━━━━━━━━━━━━━━━━━━━━\u001b[0m \u001b[32m106.5/106.5 kB\u001b[0m \u001b[31m6.6 MB/s\u001b[0m eta \u001b[36m0:00:00\u001b[0m\n",
            "\u001b[?25hRequirement already satisfied: certifi>=2021 in /usr/local/lib/python3.9/dist-packages (from pyppeteer>=0.0.14->requests-html->PyMovieDb) (2022.12.7)\n",
            "Collecting pyee<9.0.0,>=8.1.0\n",
            "  Downloading pyee-8.2.2-py2.py3-none-any.whl (12 kB)\n",
            "Requirement already satisfied: tqdm<5.0.0,>=4.42.1 in /usr/local/lib/python3.9/dist-packages (from pyppeteer>=0.0.14->requests-html->PyMovieDb) (4.65.0)\n",
            "Requirement already satisfied: beautifulsoup4 in /usr/local/lib/python3.9/dist-packages (from bs4->requests-html->PyMovieDb) (4.11.2)\n",
            "Requirement already satisfied: importlib-resources>=5.0 in /usr/local/lib/python3.9/dist-packages (from fake-useragent->requests-html->PyMovieDb) (5.12.0)\n",
            "Requirement already satisfied: lxml>=2.1 in /usr/local/lib/python3.9/dist-packages (from pyquery->requests-html->PyMovieDb) (4.9.2)\n",
            "Collecting cssselect>=1.2.0\n",
            "  Downloading cssselect-1.2.0-py2.py3-none-any.whl (18 kB)\n",
            "Requirement already satisfied: charset-normalizer~=2.0.0 in /usr/local/lib/python3.9/dist-packages (from requests->requests-html->PyMovieDb) (2.0.12)\n",
            "Requirement already satisfied: idna<4,>=2.5 in /usr/local/lib/python3.9/dist-packages (from requests->requests-html->PyMovieDb) (3.4)\n",
            "Requirement already satisfied: zipp>=0.5 in /usr/local/lib/python3.9/dist-packages (from importlib-metadata>=1.4->pyppeteer>=0.0.14->requests-html->PyMovieDb) (3.15.0)\n",
            "Requirement already satisfied: soupsieve>1.2 in /usr/local/lib/python3.9/dist-packages (from beautifulsoup4->bs4->requests-html->PyMovieDb) (2.4)\n",
            "Building wheels for collected packages: bs4, parse\n",
            "  Building wheel for bs4 (setup.py) ... \u001b[?25l\u001b[?25hdone\n",
            "  Created wheel for bs4: filename=bs4-0.0.1-py3-none-any.whl size=1270 sha256=582c8b47d8054bda3213eddf8f05bf2775788e12d20dc25139b5bd418a31701b\n",
            "  Stored in directory: /root/.cache/pip/wheels/73/2b/cb/099980278a0c9a3e57ff1a89875ec07bfa0b6fcbebb9a8cad3\n",
            "  Building wheel for parse (setup.py) ... \u001b[?25l\u001b[?25hdone\n",
            "  Created wheel for parse: filename=parse-1.19.0-py3-none-any.whl size=24589 sha256=fa73870b55a33858db84a9b171feef8bf20dbde9110c942618816b14dfe44766\n",
            "  Stored in directory: /root/.cache/pip/wheels/d6/9c/58/ee3ba36897e890f3ad81e9b730791a153fce20caa4a8a474df\n",
            "Successfully built bs4 parse\n",
            "Installing collected packages: pyee, parse, websockets, w3lib, cssselect, pyquery, pyppeteer, fake-useragent, bs4, requests-html, PyMovieDb\n",
            "Successfully installed PyMovieDb-0.0.7 bs4-0.0.1 cssselect-1.2.0 fake-useragent-1.1.3 parse-1.19.0 pyee-8.2.2 pyppeteer-1.0.2 pyquery-2.0.0 requests-html-0.10.0 w3lib-2.1.1 websockets-10.4\n",
            "Looking in indexes: https://pypi.org/simple, https://us-python.pkg.dev/colab-wheels/public/simple/\n",
            "Collecting tmdbv3api\n",
            "  Downloading tmdbv3api-1.7.7-py2.py3-none-any.whl (18 kB)\n",
            "Requirement already satisfied: requests in /usr/local/lib/python3.9/dist-packages (from tmdbv3api) (2.27.1)\n",
            "Requirement already satisfied: certifi>=2017.4.17 in /usr/local/lib/python3.9/dist-packages (from requests->tmdbv3api) (2022.12.7)\n",
            "Requirement already satisfied: charset-normalizer~=2.0.0 in /usr/local/lib/python3.9/dist-packages (from requests->tmdbv3api) (2.0.12)\n",
            "Requirement already satisfied: urllib3<1.27,>=1.21.1 in /usr/local/lib/python3.9/dist-packages (from requests->tmdbv3api) (1.26.15)\n",
            "Requirement already satisfied: idna<4,>=2.5 in /usr/local/lib/python3.9/dist-packages (from requests->tmdbv3api) (3.4)\n",
            "Installing collected packages: tmdbv3api\n",
            "Successfully installed tmdbv3api-1.7.7\n"
          ]
        }
      ],
      "source": [
        "!pip install PyMovieDb\n",
        "!pip install tmdbv3api"
      ]
    },
    {
      "cell_type": "code",
      "source": [
        "from tmdbv3api import TMDb\n",
        "tmdb = TMDb()\n",
        "tmdb.api_key = \"7935c9bf3b2a720520251058d03ee376\"\n",
        "tmdb.language = 'en'\n",
        "tmdb.debug = True"
      ],
      "metadata": {
        "id": "F02yfa-YpJSk"
      },
      "execution_count": null,
      "outputs": []
    },
    {
      "cell_type": "code",
      "source": [
        "import time\n",
        "import json\n",
        "\n",
        "#Name of the film\n",
        "film = \"Barbie\"\n",
        "\n",
        "\n",
        "#MTMDB\n",
        "from tmdbv3api import Movie\n",
        "t1=time.time()\n",
        "movie = Movie()\n",
        "search = movie.search(film)\n",
        "\n",
        "\n",
        "#IMDB\n",
        "from PyMovieDb import IMDB\n",
        "imdb = IMDB()\n",
        "res = imdb.get_by_name(film)\n",
        "res = json.loads(res)\n",
        "\n",
        "import re\n",
        "context = \"\"\n",
        "print(res)\n",
        "if res[\"name\"]:\n",
        "  context += \"Title: {}. \".format(res[\"name\"])\n",
        "if search[0].overview:\n",
        "  context += \"Overview: {}. \".format(search[0].overview)\n",
        "if res[\"rating\"][\"ratingValue\"]:\n",
        "  context += \"Rating: {}. \".format(res[\"rating\"][\"ratingValue\"])\n",
        "if res[\"genre\"]:\n",
        "  genres = \"\"\n",
        "  for i in res[\"genre\"]:\n",
        "    genres = genres + i + \", \"\n",
        "  genres = genres[:-2]\n",
        "  context += \"Genre: {}. \".format(genres)\n",
        "if res[\"datePublished\"]:\n",
        "  context += \"Date Published: {}. \".format(res[\"datePublished\"])\n",
        "if res[\"duration\"]:\n",
        "  duration = res[\"duration\"]\n",
        "  h, m = re.findall('PT(\\d+)H(\\d+)M',duration)[0]\n",
        "  duration = \"{} hours {} minutes\".format(int(h), int(m))\n",
        "  context += \"Duration: {}. \".format(duration)\n",
        "if res[\"actor\"]:\n",
        "  actors = \"\"\n",
        "  for i in res[\"actor\"]:\n",
        "    actors = actors + i[\"name\"] + \", \"\n",
        "  actors = actors[:-2]\n",
        "  context += \"Actors: {}. \".format(actors)\n",
        "if res[\"director\"]:\n",
        "  directors = \"\"\n",
        "  for i in res[\"director\"]:\n",
        "    directors = directors + i[\"name\"] + \", \"\n",
        "  directors = directors[:-2]\n",
        "  context += \"Director: {}. \".format(directors)\n",
        "\n",
        "t2=time.time()\n",
        "print(context)\n",
        "print(\"The time of retrieval was \" +str(t2-t1)+\" s\")"
      ],
      "metadata": {
        "colab": {
          "base_uri": "https://localhost:8080/"
        },
        "id": "yL_aHokdkge2",
        "outputId": "eca28f24-d642-4ee7-8e94-e5439d6ebd94"
      },
      "execution_count": null,
      "outputs": [
        {
          "output_type": "stream",
          "name": "stdout",
          "text": [
            "{'type': 'Movie', 'name': 'Barbie', 'url': 'https://www.imdb.com/title/tt1517268/', 'poster': 'https://m.media-amazon.com/images/M/MV5BOWIwZGY0OTYtZjUzYy00NzRmLTg5YzgtYWMzNWQ0MmZiY2MwXkEyXkFqcGdeQXVyMTUzMTg2ODkz._V1_.jpg', 'description': 'To live in Barbie Land is to be a perfect being in a perfect place. Unless you have a full-on existential crisis. Or you&apos;re a Ken.', 'review': {'author': None, 'dateCreated': None, 'inLanguage': None, 'heading': None, 'reviewBody': None, 'reviewRating': {'worstRating': None, 'bestRating': None, 'ratingValue': None}}, 'rating': {'ratingCount': None, 'bestRating': None, 'worstRating': None, 'ratingValue': None}, 'contentRating': None, 'genre': ['Adventure', 'Comedy', 'Fantasy'], 'datePublished': '2023-07-21', 'keywords': 'barbie,based on toy,doll,boy,f rated', 'duration': None, 'actor': [{'name': 'Margot Robbie', 'url': '/name/nm3053338/'}, {'name': 'Ariana Greenblatt', 'url': '/name/nm7567556/'}, {'name': 'Ryan Gosling', 'url': '/name/nm0331516/'}], 'director': [{'name': 'Greta Gerwig', 'url': '/name/nm1950086/'}], 'creator': [{'name': 'Noah Baumbach', 'url': '/name/nm0000876/'}, {'name': 'Greta Gerwig', 'url': '/name/nm1950086/'}]}\n",
            "Title: Barbie. Overview: To live in Barbie Land is to be a perfect being in a perfect place. Unless you have a full-on existential crisis. Or you're a Ken.. Genre: Adventure, Comedy, Fantasy. Date Published: 2023-07-21. Actors: Margot Robbie, Ariana Greenblatt, Ryan Gosling. Director: Greta Gerwig. \n",
            "The time of retrieval was 1.6292028427124023 s\n"
          ]
        }
      ]
    }
  ]
}